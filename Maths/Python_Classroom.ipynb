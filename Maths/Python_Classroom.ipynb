{
  "nbformat": 4,
  "nbformat_minor": 0,
  "metadata": {
    "colab": {
      "provenance": [],
      "authorship_tag": "ABX9TyPMOskcIS4uCb81sNjzWITb",
      "include_colab_link": true
    },
    "kernelspec": {
      "name": "python3",
      "display_name": "Python 3"
    },
    "language_info": {
      "name": "python"
    }
  },
  "cells": [
    {
      "cell_type": "markdown",
      "metadata": {
        "id": "view-in-github",
        "colab_type": "text"
      },
      "source": [
        "<a href=\"https://colab.research.google.com/github/thelearninglad/classroom/blob/main/Maths/Python_Classroom.ipynb\" target=\"_parent\"><img src=\"https://colab.research.google.com/assets/colab-badge.svg\" alt=\"Open In Colab\"/></a>"
      ]
    },
    {
      "cell_type": "code",
      "execution_count": 21,
      "metadata": {
        "colab": {
          "base_uri": "https://localhost:8080/",
          "height": 39
        },
        "id": "PRs9dhhIjw9g",
        "outputId": "df895998-1649-4882-92e7-e73088b707cb"
      },
      "outputs": [
        {
          "output_type": "execute_result",
          "data": {
            "text/plain": [
              "105*x**2*(1 - x)**4"
            ],
            "text/latex": "$\\displaystyle 105 x^{2} \\left(1 - x\\right)^{4}$"
          },
          "metadata": {},
          "execution_count": 21
        }
      ],
      "source": [
        "#@title\n",
        "# http://prob140.org/sp17/textbook/ch17/Calculus_in_SymPy.html\n",
        "\n",
        "from sympy import *\n",
        "# init_printing()\n",
        "\n",
        "var('x y m')\n",
        "# del x\n",
        "\n",
        "density = 105 * x**2 * (1-x)**4\n",
        "density"
      ]
    },
    {
      "cell_type": "code",
      "source": [
        "expand(density)"
      ],
      "metadata": {
        "colab": {
          "base_uri": "https://localhost:8080/",
          "height": 38
        },
        "id": "5RApqo18nck9",
        "outputId": "bccdd092-d561-4bf9-dbcb-adec566cf7f8"
      },
      "execution_count": 8,
      "outputs": [
        {
          "output_type": "execute_result",
          "data": {
            "text/plain": [
              "105*x**6 - 420*x**5 + 630*x**4 - 420*x**3 + 105*x**2"
            ],
            "text/latex": "$\\displaystyle 105 x^{6} - 420 x^{5} + 630 x^{4} - 420 x^{3} + 105 x^{2}$"
          },
          "metadata": {},
          "execution_count": 8
        }
      ]
    },
    {
      "cell_type": "code",
      "source": [
        "diff(density)"
      ],
      "metadata": {
        "colab": {
          "base_uri": "https://localhost:8080/",
          "height": 39
        },
        "id": "VnadxhY8vvaW",
        "outputId": "f452fd86-3575-47c4-ef6f-51f356b53224"
      },
      "execution_count": 16,
      "outputs": [
        {
          "output_type": "execute_result",
          "data": {
            "text/plain": [
              "-420*x**2*(1 - x)**3 + 210*x*(1 - x)**4"
            ],
            "text/latex": "$\\displaystyle - 420 x^{2} \\left(1 - x\\right)^{3} + 210 x \\left(1 - x\\right)^{4}$"
          },
          "metadata": {},
          "execution_count": 16
        }
      ]
    },
    {
      "cell_type": "code",
      "source": [
        "total_area = Integral(density, (x, 0, 2))\n",
        "total_area"
      ],
      "metadata": {
        "colab": {
          "base_uri": "https://localhost:8080/",
          "height": 80
        },
        "id": "PZQi6Yu8jyCr",
        "outputId": "17177bea-7c12-418a-c6a1-30f384f48410"
      },
      "execution_count": 9,
      "outputs": [
        {
          "output_type": "execute_result",
          "data": {
            "text/plain": [
              "Integral(105*x**2*(1 - x)**4, (x, 0, 2))"
            ],
            "text/latex": "$\\displaystyle \\int\\limits_{0}^{2} 105 x^{2} \\left(1 - x\\right)^{4}\\, dx$"
          },
          "metadata": {},
          "execution_count": 9
        }
      ]
    },
    {
      "cell_type": "code",
      "source": [
        "total_area.doit()"
      ],
      "metadata": {
        "colab": {
          "base_uri": "https://localhost:8080/",
          "height": 37
        },
        "id": "osElJuh2kiFZ",
        "outputId": "ec10f6d8-3b7b-493e-ea15-893ad49caa39"
      },
      "execution_count": 10,
      "outputs": [
        {
          "output_type": "execute_result",
          "data": {
            "text/plain": [
              "72"
            ],
            "text/latex": "$\\displaystyle 72$"
          },
          "metadata": {},
          "execution_count": 10
        }
      ]
    },
    {
      "cell_type": "code",
      "source": [
        "p_02_04 = Integral(density, (x, 0.2, 0.4)).doit()\n",
        "p_02_04"
      ],
      "metadata": {
        "colab": {
          "base_uri": "https://localhost:8080/",
          "height": 37
        },
        "id": "gXwfrzQfkmZc",
        "outputId": "3355cf0b-73a0-4067-82d8-c8d82ca93127"
      },
      "execution_count": 11,
      "outputs": [
        {
          "output_type": "execute_result",
          "data": {
            "text/plain": [
              "0.432064000000001"
            ],
            "text/latex": "$\\displaystyle 0.432064000000001$"
          },
          "metadata": {},
          "execution_count": 11
        }
      ]
    },
    {
      "cell_type": "code",
      "source": [
        "indefinite = Integral(density).doit()\n",
        "indefinite"
      ],
      "metadata": {
        "colab": {
          "base_uri": "https://localhost:8080/",
          "height": 38
        },
        "id": "n5Yvxbinkp7d",
        "outputId": "f8974b1e-0822-4108-8f71-2f465b26ff38"
      },
      "execution_count": 12,
      "outputs": [
        {
          "output_type": "execute_result",
          "data": {
            "text/plain": [
              "15*x**7 - 70*x**6 + 126*x**5 - 105*x**4 + 35*x**3"
            ],
            "text/latex": "$\\displaystyle 15 x^{7} - 70 x^{6} + 126 x^{5} - 105 x^{4} + 35 x^{3}$"
          },
          "metadata": {},
          "execution_count": 12
        }
      ]
    },
    {
      "cell_type": "code",
      "source": [
        "factorint(1001)"
      ],
      "metadata": {
        "colab": {
          "base_uri": "https://localhost:8080/"
        },
        "id": "h49K0zzgu-SC",
        "outputId": "26d272fd-52bd-4e3e-c736-05497e291666"
      },
      "execution_count": 17,
      "outputs": [
        {
          "output_type": "execute_result",
          "data": {
            "text/plain": [
              "{7: 1, 11: 1, 13: 1}"
            ]
          },
          "metadata": {},
          "execution_count": 17
        }
      ]
    },
    {
      "cell_type": "code",
      "source": [
        "divisors(1001)"
      ],
      "metadata": {
        "colab": {
          "base_uri": "https://localhost:8080/"
        },
        "id": "3x1s8HELwF7G",
        "outputId": "c2124be5-0830-4d56-dff2-141e67c420de"
      },
      "execution_count": 18,
      "outputs": [
        {
          "output_type": "execute_result",
          "data": {
            "text/plain": [
              "[1, 7, 11, 13, 77, 91, 143, 1001]"
            ]
          },
          "metadata": {},
          "execution_count": 18
        }
      ]
    },
    {
      "cell_type": "code",
      "source": [
        "Sum(x + 2,(x,1,10))"
      ],
      "metadata": {
        "colab": {
          "base_uri": "https://localhost:8080/",
          "height": 69
        },
        "id": "l3D9kkkXwZdL",
        "outputId": "30f974d9-8873-40dd-b688-7a1936b68946"
      },
      "execution_count": 28,
      "outputs": [
        {
          "output_type": "execute_result",
          "data": {
            "text/plain": [
              "Sum(x + 2, (x, 1, 10))"
            ],
            "text/latex": "$\\displaystyle \\sum_{x=1}^{10} \\left(x + 2\\right)$"
          },
          "metadata": {},
          "execution_count": 28
        }
      ]
    },
    {
      "cell_type": "code",
      "source": [
        "N(_).simplify().simplify()"
      ],
      "metadata": {
        "colab": {
          "base_uri": "https://localhost:8080/",
          "height": 37
        },
        "id": "4DINtI6lwb6Y",
        "outputId": "31f87cbd-98c1-40fd-e16a-c7f27bb2f94f"
      },
      "execution_count": 30,
      "outputs": [
        {
          "output_type": "execute_result",
          "data": {
            "text/plain": [
              "75.0000000000000"
            ],
            "text/latex": "$\\displaystyle 75.0$"
          },
          "metadata": {},
          "execution_count": 30
        }
      ]
    },
    {
      "cell_type": "code",
      "source": [],
      "metadata": {
        "id": "lr8ltIHFwp66"
      },
      "execution_count": null,
      "outputs": []
    }
  ]
}